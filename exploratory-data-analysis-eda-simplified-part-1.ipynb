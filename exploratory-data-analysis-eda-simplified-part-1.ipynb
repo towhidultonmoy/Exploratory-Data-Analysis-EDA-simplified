{
 "cells": [
  {
   "cell_type": "markdown",
   "id": "0971e7cc",
   "metadata": {
    "papermill": {
     "duration": 0.007753,
     "end_time": "2022-01-23T16:06:35.969082",
     "exception": false,
     "start_time": "2022-01-23T16:06:35.961329",
     "status": "completed"
    },
    "tags": []
   },
   "source": [
    "# **This notebook is for beginners to get started with Exploratory Data Analysis(EDA).**"
   ]
  },
  {
   "cell_type": "markdown",
   "id": "12fe9323",
   "metadata": {
    "papermill": {
     "duration": 0.005859,
     "end_time": "2022-01-23T16:06:35.981470",
     "exception": false,
     "start_time": "2022-01-23T16:06:35.975611",
     "status": "completed"
    },
    "tags": []
   },
   "source": [
    "So, What is **Exploratory Data Analysis?**\n",
    "\n",
    "-Suppose you want to start your career in Data Science. But you have no idea where to start. As you love to read books, you have planned to buy books regarding the subject. So, now you need to go to stores and find the best books to learn. But you don't know which books are for beginners. Now you are in a dilemma.\n",
    "It will now lead you to a state where you will find yourself baffled with a lot of concerns that need to be answered to make the decision. To make the decision, you need to know some information like \n",
    "* which books are for beginners, \n",
    "* which books have explained the theory or the practical implementation well, \n",
    "* which books are organized, which books have a good rating, and so on.\n",
    "\n",
    "\n",
    "The analyzing measures, you would take before finally buying the book is called ‘**Exploratory Data Analysis**.\n",
    "\n",
    "In short,\n",
    "\n",
    "# EDA is the process of analyzing the data to find and understand necessary patterns which then will be used to build machine learning models.\n"
   ]
  },
  {
   "cell_type": "markdown",
   "id": "ae3edad7",
   "metadata": {
    "papermill": {
     "duration": 0.005866,
     "end_time": "2022-01-23T16:06:35.993531",
     "exception": false,
     "start_time": "2022-01-23T16:06:35.987665",
     "status": "completed"
    },
    "tags": []
   },
   "source": [
    "To perform EDA with python, we will need to import some libraries. What is a library and why do we need it?\n",
    "> A library is a collection of pre-combined codes that can be used iteratively to reduce the time required to code from scratch.\n"
   ]
  },
  {
   "cell_type": "markdown",
   "id": "278b6ca0",
   "metadata": {
    "papermill": {
     "duration": 0.005974,
     "end_time": "2022-01-23T16:06:36.005712",
     "exception": false,
     "start_time": "2022-01-23T16:06:35.999738",
     "status": "completed"
    },
    "tags": []
   },
   "source": [
    "We will start by importing the libraries we required for performing EDA. The basic libraries include  **NumPy, Pandas, Matplotlib, and Seaborn.**"
   ]
  },
  {
   "cell_type": "markdown",
   "id": "b10bb7b4",
   "metadata": {
    "papermill": {
     "duration": 0.005785,
     "end_time": "2022-01-23T16:06:36.017714",
     "exception": false,
     "start_time": "2022-01-23T16:06:36.011929",
     "status": "completed"
    },
    "tags": []
   },
   "source": [
    "# There are also some new and advanced libraries which are very helful for EDA. They are,\n",
    "* [dtale](https://pypi.org/project/dtale/)\n",
    "* [pandas profiling](https://pandas-profiling.github.io/pandas-profiling/docs/master/index.html#documentation)\n",
    "* [sweetviz](https://pypi.org/project/sweetviz/)\n",
    "* [autoviz](https://pypi.org/project/autoviz/)\n",
    "* [Dataprep](https://docs.dataprep.ai/user_guide/eda/introduction.html#userguide-eda)\n",
    "* [Pandas GUI](https://pypi.org/project/pandasgui/)\n",
    "* [Bamboolib](https://pypi.org/project/bamboolib/)\n",
    "* [Dora](https://github.com/NathanEpstein/Dora)\n",
    "* [Visidata](https://pypi.org/project/visidata/)\n",
    "* [Scattertext](https://spacy.io/universe/project/scattertext)\n",
    "\n",
    "**All the documentation links of the libraries are attached with the names so that anyone can get started with the libraries. **\n",
    "\n",
    "\n",
    "\n",
    "\n"
   ]
  },
  {
   "cell_type": "markdown",
   "id": "a87944a3",
   "metadata": {
    "papermill": {
     "duration": 0.005858,
     "end_time": "2022-01-23T16:06:36.029789",
     "exception": false,
     "start_time": "2022-01-23T16:06:36.023931",
     "status": "completed"
    },
    "tags": []
   },
   "source": [
    "# **Types of EDA**\n",
    "There are four types of EDA. Before introducing the types, you need to understand some terms.\n",
    "> Univariate: Uni indicates one and variate stands for the variable. So, when the data consists of only one variable, then it is called univariate.\n",
    "\n",
    "> Multivariate: Multi indicates more than one and variate represents variable. Multivariate data arises from more than one variable.\n",
    "\n",
    "> Graphical: It means using plots(Like histogram, stem and leaf plot, and box plots) and figures to understand the data easily.\n",
    "\n",
    "> Nongraphical: Using different statistical techniques to understand the distribution(like, center, spread, modality, shape and outliers) ,central tendency(include Mean, Median, Mode) and measures of spread(include variance, standard deviation, and interquartile range) of the data.\n",
    "\n",
    "So, the four types of EDA are,\n",
    "* Univariate non-graphical\n",
    "* Univariate graphical\n",
    "* Multivariate nongraphical\n",
    "* Multivariate graphical\n",
    "\n",
    "\n"
   ]
  },
  {
   "cell_type": "markdown",
   "id": "dbe7d042",
   "metadata": {
    "papermill": {
     "duration": 0.00578,
     "end_time": "2022-01-23T16:06:36.041708",
     "exception": false,
     "start_time": "2022-01-23T16:06:36.035928",
     "status": "completed"
    },
    "tags": []
   },
   "source": [
    "# **Exploratory Data Analysis**"
   ]
  },
  {
   "cell_type": "markdown",
   "id": "82cb93fc",
   "metadata": {
    "papermill": {
     "duration": 0.005778,
     "end_time": "2022-01-23T16:06:36.053560",
     "exception": false,
     "start_time": "2022-01-23T16:06:36.047782",
     "status": "completed"
    },
    "tags": []
   },
   "source": [
    "There are some steps that we always follow in EDA. Like,\n",
    "* Checking for Missing Data\n",
    "* Providing Basic Descriptions of the Samples and Features\n",
    "* Identifying The Distribution of the Data\n",
    "* Identifying Significant Correlations\n",
    "* Spoting Outliers in the Dataset\n"
   ]
  },
  {
   "cell_type": "markdown",
   "id": "ada34cd0",
   "metadata": {
    "papermill": {
     "duration": 0.005754,
     "end_time": "2022-01-23T16:06:36.065409",
     "exception": false,
     "start_time": "2022-01-23T16:06:36.059655",
     "status": "completed"
    },
    "tags": []
   },
   "source": [
    "> In the next part, we will see the coding techniques applied on a sample dataset to understand all the steps."
   ]
  },
  {
   "cell_type": "markdown",
   "id": "08a1c788",
   "metadata": {
    "papermill": {
     "duration": 0.005801,
     "end_time": "2022-01-23T16:06:36.077471",
     "exception": false,
     "start_time": "2022-01-23T16:06:36.071670",
     "status": "completed"
    },
    "tags": []
   },
   "source": [
    "# Was the notebook worth your time? You can show support by giving an upvote. "
   ]
  }
 ],
 "metadata": {
  "kernelspec": {
   "display_name": "Python 3",
   "language": "python",
   "name": "python3"
  },
  "language_info": {
   "codemirror_mode": {
    "name": "ipython",
    "version": 3
   },
   "file_extension": ".py",
   "mimetype": "text/x-python",
   "name": "python",
   "nbconvert_exporter": "python",
   "pygments_lexer": "ipython3",
   "version": "3.7.10"
  },
  "papermill": {
   "default_parameters": {},
   "duration": 9.842518,
   "end_time": "2022-01-23T16:06:37.456060",
   "environment_variables": {},
   "exception": null,
   "input_path": "__notebook__.ipynb",
   "output_path": "__notebook__.ipynb",
   "parameters": {},
   "start_time": "2022-01-23T16:06:27.613542",
   "version": "2.3.3"
  }
 },
 "nbformat": 4,
 "nbformat_minor": 5
}
